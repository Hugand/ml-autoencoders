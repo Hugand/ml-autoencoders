{
 "cells": [
  {
   "cell_type": "code",
   "execution_count": 170,
   "id": "3de385ce",
   "metadata": {},
   "outputs": [],
   "source": [
    "# imports\n",
    "from tensorflow import keras\n",
    "from keras.layers import Dense, Input\n",
    "import matplotlib.pyplot as plt\n",
    "import numpy as np\n",
    "\n",
    "from tensorflow.keras.regularizers import l1"
   ]
  },
  {
   "cell_type": "code",
   "execution_count": 119,
   "id": "2a2cda92",
   "metadata": {
    "scrolled": true
   },
   "outputs": [
    {
     "data": {
      "text/plain": [
       "60000"
      ]
     },
     "execution_count": 119,
     "metadata": {},
     "output_type": "execute_result"
    }
   ],
   "source": [
    "# Load dataset\n",
    "(__X_train, y_train), (__X_test, y_test) = keras.datasets.mnist.load_data()\n",
    "\n",
    "len(__X_train)"
   ]
  },
  {
   "cell_type": "code",
   "execution_count": 191,
   "id": "b4bffa15",
   "metadata": {},
   "outputs": [],
   "source": [
    "def plot_sample(data):\n",
    "    # create figure\n",
    "    fig = plt.figure(figsize=(10, 7))\n",
    "    n_imgs = 5\n",
    "    \n",
    "    for i in range(0, len(data)):\n",
    "        for h in range(1, n_imgs+1):\n",
    "            # Adds a subplot at the 1st position\n",
    "            fig.add_subplot(len(data), 5, n_imgs*i + h)\n",
    "\n",
    "            # showing image\n",
    "            plt.imshow(np.reshape(data[i][0][h], (28, 28)))\n",
    "            plt.axis('off')\n",
    "            plt.title(data[i][1])"
   ]
  },
  {
   "cell_type": "markdown",
   "id": "f863def3",
   "metadata": {},
   "source": [
    "## Load and pre process data"
   ]
  },
  {
   "cell_type": "code",
   "execution_count": 120,
   "id": "bef156ae",
   "metadata": {},
   "outputs": [],
   "source": [
    "_X_train = __X_train.astype('float32') / 255.0\n",
    "_X_test = __X_test.astype('float32') / 255.0\n",
    "\n",
    "input_size = 28*28\n",
    "hidden_size = 128\n",
    "code_size = 64"
   ]
  },
  {
   "cell_type": "code",
   "execution_count": 155,
   "id": "ecd1a5bd",
   "metadata": {},
   "outputs": [
    {
     "data": {
      "text/plain": [
       "60000"
      ]
     },
     "execution_count": 155,
     "metadata": {},
     "output_type": "execute_result"
    }
   ],
   "source": [
    "# Pre-process data\n",
    "X_train = []\n",
    "X_test = []\n",
    "noisy_X_train = []\n",
    "noisy_X_test = []\n",
    "\n",
    "noise_factor = 0.4\n",
    "\n",
    "for i in range(len(_X_train)):\n",
    "    X_train.append(np.reshape(_X_train[i], (input_size,)))\n",
    "    \n",
    "for i in range(len(_X_test)):\n",
    "    X_test.append(np.reshape(_X_test[i], (input_size,)))\n",
    "    \n",
    "for i in range(len(X_train)):\n",
    "    noisy_X_train.append(X_train[i] + noise_factor * np.random.normal(0.0,1.0, len(X_train[i])))\n",
    "    \n",
    "for i in range(len(X_test)):\n",
    "    noisy_X_test.append(X_test[i] + noise_factor * np.random.normal(0.0,1.0, len(X_test[i])))\n",
    "\n",
    "X_train = np.array(X_train)\n",
    "X_test = np.array(X_test)\n",
    "noisy_X_train = np.array(noisy_X_train)\n",
    "noisy_X_test = np.array(noisy_X_test)\n",
    "\n",
    "len(X_train)"
   ]
  },
  {
   "cell_type": "markdown",
   "id": "480fac1d",
   "metadata": {},
   "source": [
    "## Reconstruction autoencoder"
   ]
  },
  {
   "cell_type": "code",
   "execution_count": 132,
   "id": "4a0fa3a0",
   "metadata": {},
   "outputs": [
    {
     "name": "stdout",
     "output_type": "stream",
     "text": [
      "Model: \"model_11\"\n",
      "_________________________________________________________________\n",
      "Layer (type)                 Output Shape              Param #   \n",
      "=================================================================\n",
      "input_14 (InputLayer)        [(None, 784)]             0         \n",
      "_________________________________________________________________\n",
      "dense_58 (Dense)             (None, 128)               100480    \n",
      "_________________________________________________________________\n",
      "dense_59 (Dense)             (None, 64)                8256      \n",
      "_________________________________________________________________\n",
      "dense_60 (Dense)             (None, 128)               8320      \n",
      "_________________________________________________________________\n",
      "dense_61 (Dense)             (None, 784)               101136    \n",
      "=================================================================\n",
      "Total params: 218,192\n",
      "Trainable params: 218,192\n",
      "Non-trainable params: 0\n",
      "_________________________________________________________________\n"
     ]
    }
   ],
   "source": [
    "# Define model\n",
    "input_layer = Input(shape=(input_size,))\n",
    "encoder_layer = Dense(hidden_size, activation='relu')(input_layer)\n",
    "code_layer = Dense(code_size, activation='relu')(encoder_layer)\n",
    "decoder_layer = Dense(hidden_size, activation='relu')(code_layer)\n",
    "output_layer = Dense(input_size, activation='sigmoid')(decoder_layer)\n",
    "\n",
    "reconstruction_ae = keras.Model(input_layer, output_layer)\n",
    "reconstruction_ae.compile(optimizer='adam', loss='binary_crossentropy')\n",
    "reconstruction_ae.summary()"
   ]
  },
  {
   "cell_type": "code",
   "execution_count": 133,
   "id": "478b760b",
   "metadata": {},
   "outputs": [
    {
     "name": "stdout",
     "output_type": "stream",
     "text": [
      "Epoch 1/20\n",
      "1875/1875 [==============================] - 3s 2ms/step - loss: 0.1298\n",
      "Epoch 2/20\n",
      "1875/1875 [==============================] - 3s 1ms/step - loss: 0.0911\n",
      "Epoch 3/20\n",
      "1875/1875 [==============================] - 3s 2ms/step - loss: 0.0850\n",
      "Epoch 4/20\n",
      "1875/1875 [==============================] - 3s 2ms/step - loss: 0.0820\n",
      "Epoch 5/20\n",
      "1875/1875 [==============================] - 3s 2ms/step - loss: 0.0800\n",
      "Epoch 6/20\n",
      "1875/1875 [==============================] - 3s 1ms/step - loss: 0.0787\n",
      "Epoch 7/20\n",
      "1875/1875 [==============================] - 3s 1ms/step - loss: 0.0778\n",
      "Epoch 8/20\n",
      "1875/1875 [==============================] - 3s 1ms/step - loss: 0.0771\n",
      "Epoch 9/20\n",
      "1875/1875 [==============================] - 3s 1ms/step - loss: 0.0766\n",
      "Epoch 10/20\n",
      "1875/1875 [==============================] - 3s 1ms/step - loss: 0.0762\n",
      "Epoch 11/20\n",
      "1875/1875 [==============================] - 3s 1ms/step - loss: 0.0759\n",
      "Epoch 12/20\n",
      "1875/1875 [==============================] - 3s 1ms/step - loss: 0.0756\n",
      "Epoch 13/20\n",
      "1875/1875 [==============================] - 3s 1ms/step - loss: 0.0755\n",
      "Epoch 14/20\n",
      "1875/1875 [==============================] - 3s 2ms/step - loss: 0.0753\n",
      "Epoch 15/20\n",
      "1875/1875 [==============================] - 3s 2ms/step - loss: 0.0751\n",
      "Epoch 16/20\n",
      "1875/1875 [==============================] - 3s 2ms/step - loss: 0.0750\n",
      "Epoch 17/20\n",
      "1875/1875 [==============================] - 3s 1ms/step - loss: 0.0749\n",
      "Epoch 18/20\n",
      "1875/1875 [==============================] - 3s 2ms/step - loss: 0.0748\n",
      "Epoch 19/20\n",
      "1875/1875 [==============================] - 3s 1ms/step - loss: 0.0747\n",
      "Epoch 20/20\n",
      "1875/1875 [==============================] - 3s 2ms/step - loss: 0.0746\n"
     ]
    },
    {
     "data": {
      "text/plain": [
       "<tensorflow.python.keras.callbacks.History at 0x14bd9ae50>"
      ]
     },
     "execution_count": 133,
     "metadata": {},
     "output_type": "execute_result"
    }
   ],
   "source": [
    "reconstruction_ae.fit(X_train, X_train, epochs=20)"
   ]
  },
  {
   "cell_type": "code",
   "execution_count": 153,
   "id": "2eb8e6da",
   "metadata": {},
   "outputs": [
    {
     "data": {
      "image/png": "[encoded data removed]",
      "text/plain": [
       "<Figure size 720x504 with 10 Axes>"
      ]
     },
     "metadata": {
      "needs_background": "light"
     },
     "output_type": "display_data"
    }
   ],
   "source": [
    "reconstructed = reconstruction_ae.predict(X_test)\n",
    "plot_sample([(_X_test, 'original'), (reconstructed, 'reconstructed')])"
   ]
  },
  {
   "cell_type": "markdown",
   "id": "75afa7a6",
   "metadata": {},
   "source": [
    "## Denoiser autoencoder"
   ]
  },
  {
   "cell_type": "code",
   "execution_count": 175,
   "id": "f3f3a329",
   "metadata": {},
   "outputs": [
    {
     "name": "stdout",
     "output_type": "stream",
     "text": [
      "Model: \"model_20\"\n",
      "_________________________________________________________________\n",
      "Layer (type)                 Output Shape              Param #   \n",
      "=================================================================\n",
      "input_24 (InputLayer)        [(None, 784)]             0         \n",
      "_________________________________________________________________\n",
      "dense_94 (Dense)             (None, 128)               100480    \n",
      "_________________________________________________________________\n",
      "dense_95 (Dense)             (None, 64)                8256      \n",
      "_________________________________________________________________\n",
      "dense_96 (Dense)             (None, 128)               8320      \n",
      "_________________________________________________________________\n",
      "dense_97 (Dense)             (None, 784)               101136    \n",
      "=================================================================\n",
      "Total params: 218,192\n",
      "Trainable params: 218,192\n",
      "Non-trainable params: 0\n",
      "_________________________________________________________________\n"
     ]
    }
   ],
   "source": [
    "# Define model\n",
    "input_layer = Input(shape=(input_size,))\n",
    "encoder_layer = Dense(hidden_size, activation='relu')(input_layer)\n",
    "code_layer = Dense(code_size, activation='relu')(encoder_layer)\n",
    "decoder_layer = Dense(hidden_size, activation='relu')(code_layer)\n",
    "output_layer = Dense(input_size, activation='sigmoid')(decoder_layer)\n",
    "\n",
    "denoiser_ae = keras.Model(input_layer, output_layer)\n",
    "denoiser_ae.compile(optimizer='adam', loss='binary_crossentropy')\n",
    "denoiser_ae.summary()"
   ]
  },
  {
   "cell_type": "code",
   "execution_count": 176,
   "id": "da131a8d",
   "metadata": {},
   "outputs": [
    {
     "name": "stdout",
     "output_type": "stream",
     "text": [
      "Epoch 1/3\n",
      "1875/1875 [==============================] - 3s 2ms/step - loss: 0.1493\n",
      "Epoch 2/3\n",
      "1875/1875 [==============================] - 3s 2ms/step - loss: 0.1145\n",
      "Epoch 3/3\n",
      "1875/1875 [==============================] - 3s 1ms/step - loss: 0.1085\n"
     ]
    },
    {
     "data": {
      "text/plain": [
       "<tensorflow.python.keras.callbacks.History at 0x14be65820>"
      ]
     },
     "execution_count": 176,
     "metadata": {},
     "output_type": "execute_result"
    }
   ],
   "source": [
    "denoiser_ae.fit(noisy_X_train, X_train, epochs=3)"
   ]
  },
  {
   "cell_type": "code",
   "execution_count": 194,
   "id": "cd1502e6",
   "metadata": {},
   "outputs": [
    {
     "data": {
      "image/png": "[encoded data removed]",
      "text/plain": [
       "<Figure size 720x504 with 15 Axes>"
      ]
     },
     "metadata": {
      "needs_background": "light"
     },
     "output_type": "display_data"
    }
   ],
   "source": [
    "denoised = denoiser_ae.predict(noisy_X_test)\n",
    "plot_sample([(X_test, 'original'), (noisy_X_test, 'noisy'), (denoised, 'denoised')])"
   ]
  },
  {
   "cell_type": "markdown",
   "id": "d71553b4",
   "metadata": {},
   "source": [
    "## Sparse autoencoder"
   ]
  },
  {
   "cell_type": "code",
   "execution_count": 196,
   "id": "f2f85141",
   "metadata": {},
   "outputs": [
    {
     "name": "stdout",
     "output_type": "stream",
     "text": [
      "Model: \"model_26\"\n",
      "_________________________________________________________________\n",
      "Layer (type)                 Output Shape              Param #   \n",
      "=================================================================\n",
      "input_30 (InputLayer)        [(None, 784)]             0         \n",
      "_________________________________________________________________\n",
      "dense_118 (Dense)            (None, 128)               100480    \n",
      "_________________________________________________________________\n",
      "dense_119 (Dense)            (None, 64)                8256      \n",
      "_________________________________________________________________\n",
      "dense_120 (Dense)            (None, 128)               8320      \n",
      "_________________________________________________________________\n",
      "dense_121 (Dense)            (None, 784)               101136    \n",
      "=================================================================\n",
      "Total params: 218,192\n",
      "Trainable params: 218,192\n",
      "Non-trainable params: 0\n",
      "_________________________________________________________________\n"
     ]
    }
   ],
   "source": [
    "# Define model\n",
    "input_layer = Input(shape=(input_size,))\n",
    "encoder_layer = Dense(hidden_size, activation='relu', activity_regularizer=l1(10e-6))(input_layer)\n",
    "code_layer = Dense(code_size, activation='relu', activity_regularizer=l1(10e-6))(encoder_layer)\n",
    "decoder_layer = Dense(hidden_size, activation='relu', activity_regularizer=l1(10e-6))(code_layer)\n",
    "output_layer = Dense(input_size, activation='sigmoid')(decoder_layer)\n",
    "\n",
    "regularized_ae = keras.Model(input_layer, output_layer)\n",
    "regularized_ae.compile(optimizer='adam', loss='binary_crossentropy')\n",
    "regularized_ae.summary()"
   ]
  },
  {
   "cell_type": "code",
   "execution_count": null,
   "id": "f3872c48",
   "metadata": {},
   "outputs": [
    {
     "name": "stdout",
     "output_type": "stream",
     "text": [
      "Epoch 1/40\n",
      "1875/1875 [==============================] - 3s 2ms/step - loss: 0.1534\n",
      "Epoch 2/40\n",
      "1875/1875 [==============================] - 3s 2ms/step - loss: 0.1192\n",
      "Epoch 3/40\n",
      "1875/1875 [==============================] - 3s 1ms/step - loss: 0.1129\n",
      "Epoch 4/40\n",
      "1875/1875 [==============================] - 3s 1ms/step - loss: 0.1099\n",
      "Epoch 5/40\n",
      "1875/1875 [==============================] - 3s 2ms/step - loss: 0.1078\n",
      "Epoch 6/40\n",
      "1875/1875 [==============================] - 3s 2ms/step - loss: 0.1065\n",
      "Epoch 7/40\n",
      "1875/1875 [==============================] - 4s 2ms/step - loss: 0.1055\n",
      "Epoch 8/40\n",
      "1875/1875 [==============================] - 3s 1ms/step - loss: 0.1047\n",
      "Epoch 9/40\n",
      "1875/1875 [==============================] - 3s 2ms/step - loss: 0.1041\n",
      "Epoch 10/40\n",
      "1875/1875 [==============================] - 3s 2ms/step - loss: 0.1035\n",
      "Epoch 11/40\n",
      "1875/1875 [==============================] - 3s 1ms/step - loss: 0.1031\n",
      "Epoch 12/40\n",
      "1875/1875 [==============================] - 3s 2ms/step - loss: 0.1027\n",
      "Epoch 13/40\n",
      "1875/1875 [==============================] - 3s 2ms/step - loss: 0.1023\n",
      "Epoch 14/40\n",
      "1875/1875 [==============================] - 3s 2ms/step - loss: 0.1021\n",
      "Epoch 15/40\n",
      "1875/1875 [==============================] - 3s 1ms/step - loss: 0.1018\n",
      "Epoch 16/40\n",
      "1875/1875 [==============================] - 3s 2ms/step - loss: 0.1016\n",
      "Epoch 17/40\n",
      "1875/1875 [==============================] - 3s 1ms/step - loss: 0.1014\n",
      "Epoch 18/40\n",
      "1875/1875 [==============================] - 3s 2ms/step - loss: 0.1012\n",
      "Epoch 19/40\n",
      "1875/1875 [==============================] - 3s 2ms/step - loss: 0.1010\n",
      "Epoch 20/40\n",
      "1875/1875 [==============================] - 3s 2ms/step - loss: 0.1008\n",
      "Epoch 21/40\n",
      "1875/1875 [==============================] - 3s 2ms/step - loss: 0.1007\n",
      "Epoch 22/40\n",
      "1875/1875 [==============================] - 3s 2ms/step - loss: 0.1005\n",
      "Epoch 23/40\n",
      "1875/1875 [==============================] - 3s 2ms/step - loss: 0.1004\n",
      "Epoch 24/40\n",
      "1875/1875 [==============================] - 3s 2ms/step - loss: 0.1003\n",
      "Epoch 25/40\n",
      " 163/1875 [=>............................] - ETA: 2s - loss: 0.0985"
     ]
    }
   ],
   "source": [
    "regularized_ae.fit(noisy_X_train, X_train, epochs=40)"
   ]
  },
  {
   "cell_type": "code",
   "execution_count": null,
   "id": "9b0f290a",
   "metadata": {},
   "outputs": [],
   "source": [
    "regularized_denoised = regularized_ae.predict(noisy_X_test)\n",
    "plot_sample([(X_test, 'original'), (noisy_X_test, 'noisy'), (regularized_denoised, 'regularized_denoised')])"
   ]
  },
  {
   "cell_type": "code",
   "execution_count": null,
   "id": "2bdb20fe",
   "metadata": {},
   "outputs": [],
   "source": []
  }
 ],
 "metadata": {
  "kernelspec": {
   "display_name": "Python 3",
   "language": "python",
   "name": "python3"
  },
  "language_info": {
   "codemirror_mode": {
    "name": "ipython",
    "version": 3
   },
   "file_extension": ".py",
   "mimetype": "text/x-python",
   "name": "python",
   "nbconvert_exporter": "python",
   "pygments_lexer": "ipython3",
   "version": "3.8.2"
  }
 },
 "nbformat": 4,
 "nbformat_minor": 5
}
